{
 "cells": [
  {
   "cell_type": "code",
   "execution_count": 13,
   "metadata": {},
   "outputs": [],
   "source": [
    "import sentencepiece as spm\n",
    "import pandas as pd\n",
    "import urllib.request\n",
    "import csv"
   ]
  },
  {
   "cell_type": "code",
   "execution_count": 14,
   "metadata": {},
   "outputs": [
    {
     "name": "stdout",
     "output_type": "stream",
     "text": [
      "7613\n"
     ]
    }
   ],
   "source": [
    "train_df = pd.read_csv('train.csv')\n",
    "train_df['text']\n",
    "\n",
    "print(len(train_df))"
   ]
  },
  {
   "cell_type": "code",
   "execution_count": 15,
   "metadata": {},
   "outputs": [],
   "source": [
    "with open('train.txt', 'w', encoding='utf8') as f:\n",
    "    f.write('\\n'.join(train_df['text']))"
   ]
  },
  {
   "cell_type": "code",
   "execution_count": 16,
   "metadata": {},
   "outputs": [],
   "source": [
    "spm.SentencePieceTrainer.Train('--input=train.txt --model_prefix=disaster --vocab_size=5000 --model_type=unigram --max_sentence_length=9999')"
   ]
  },
  {
   "cell_type": "code",
   "execution_count": 17,
   "metadata": {},
   "outputs": [
    {
     "data": {
      "text/html": [
       "<div>\n",
       "<style scoped>\n",
       "    .dataframe tbody tr th:only-of-type {\n",
       "        vertical-align: middle;\n",
       "    }\n",
       "\n",
       "    .dataframe tbody tr th {\n",
       "        vertical-align: top;\n",
       "    }\n",
       "\n",
       "    .dataframe thead th {\n",
       "        text-align: right;\n",
       "    }\n",
       "</style>\n",
       "<table border=\"1\" class=\"dataframe\">\n",
       "  <thead>\n",
       "    <tr style=\"text-align: right;\">\n",
       "      <th></th>\n",
       "      <th>0</th>\n",
       "      <th>1</th>\n",
       "    </tr>\n",
       "  </thead>\n",
       "  <tbody>\n",
       "    <tr>\n",
       "      <th>0</th>\n",
       "      <td>&lt;unk&gt;</td>\n",
       "      <td>0.00000</td>\n",
       "    </tr>\n",
       "    <tr>\n",
       "      <th>1</th>\n",
       "      <td>&lt;s&gt;</td>\n",
       "      <td>0.00000</td>\n",
       "    </tr>\n",
       "    <tr>\n",
       "      <th>2</th>\n",
       "      <td>&lt;/s&gt;</td>\n",
       "      <td>0.00000</td>\n",
       "    </tr>\n",
       "    <tr>\n",
       "      <th>3</th>\n",
       "      <td>t</td>\n",
       "      <td>-3.38804</td>\n",
       "    </tr>\n",
       "    <tr>\n",
       "      <th>4</th>\n",
       "      <td>▁</td>\n",
       "      <td>-3.41312</td>\n",
       "    </tr>\n",
       "    <tr>\n",
       "      <th>...</th>\n",
       "      <td>...</td>\n",
       "      <td>...</td>\n",
       "    </tr>\n",
       "    <tr>\n",
       "      <th>4995</th>\n",
       "      <td>esbian</td>\n",
       "      <td>-11.27060</td>\n",
       "    </tr>\n",
       "    <tr>\n",
       "      <th>4996</th>\n",
       "      <td>icrosoft</td>\n",
       "      <td>-11.27080</td>\n",
       "    </tr>\n",
       "    <tr>\n",
       "      <th>4997</th>\n",
       "      <td>WAYS</td>\n",
       "      <td>-11.27100</td>\n",
       "    </tr>\n",
       "    <tr>\n",
       "      <th>4998</th>\n",
       "      <td>Ê</td>\n",
       "      <td>-12.47540</td>\n",
       "    </tr>\n",
       "    <tr>\n",
       "      <th>4999</th>\n",
       "      <td>Ï</td>\n",
       "      <td>-12.47550</td>\n",
       "    </tr>\n",
       "  </tbody>\n",
       "</table>\n",
       "<p>5000 rows × 2 columns</p>\n",
       "</div>"
      ],
      "text/plain": [
       "             0         1\n",
       "0        <unk>   0.00000\n",
       "1          <s>   0.00000\n",
       "2         </s>   0.00000\n",
       "3            t  -3.38804\n",
       "4            ▁  -3.41312\n",
       "...        ...       ...\n",
       "4995    esbian -11.27060\n",
       "4996  icrosoft -11.27080\n",
       "4997      WAYS -11.27100\n",
       "4998         Ê -12.47540\n",
       "4999         Ï -12.47550\n",
       "\n",
       "[5000 rows x 2 columns]"
      ]
     },
     "execution_count": 17,
     "metadata": {},
     "output_type": "execute_result"
    }
   ],
   "source": [
    "vocab_list = pd.read_csv('disaster.vocab', sep='\\t', header=None, quoting=csv.QUOTE_NONE)\n",
    "vocab_list"
   ]
  },
  {
   "cell_type": "code",
   "execution_count": 18,
   "metadata": {},
   "outputs": [
    {
     "data": {
      "text/plain": [
       "True"
      ]
     },
     "execution_count": 18,
     "metadata": {},
     "output_type": "execute_result"
    }
   ],
   "source": [
    "sp = spm.SentencePieceProcessor()\n",
    "vocab_file = 'disaster.model'\n",
    "sp.load(vocab_file)"
   ]
  },
  {
   "cell_type": "code",
   "execution_count": 23,
   "metadata": {},
   "outputs": [
    {
     "name": "stdout",
     "output_type": "stream",
     "text": [
      "Our Deeds are the Reason of this #earthquake May ALLAH Forgive us all\n",
      "['▁Our', '▁De', 'ed', 's', '▁are', '▁the', '▁Reason', '▁of', '▁this', '▁#', 'earthquake', '▁May', '▁ALL', 'AH', '▁For', 'g', 'ive', '▁us', '▁all']\n",
      "[1317, 496, 27, 5, 121, 12, 3452, 24, 122, 11, 3602, 1338, 2593, 1997, 418, 32, 370, 276, 167]\n",
      "\n",
      "Forest fire near La Ronge Sask. Canada\n",
      "['▁Forest', '▁fire', '▁near', '▁La', '▁R', 'on', 'ge', '▁S', 'ask', '.', '▁Canada']\n",
      "[794, 172, 574, 505, 150, 130, 365, 69, 2785, 6, 3472]\n",
      "\n"
     ]
    }
   ],
   "source": [
    "lines = [train_df['text'][0], train_df['text'][1]]\n",
    "\n",
    "for line in lines:\n",
    "    print(line)\n",
    "    print(sp.encode_as_pieces(line))\n",
    "    print(sp.encode_as_ids(line))\n",
    "    print()"
   ]
  },
  {
   "cell_type": "code",
   "execution_count": 31,
   "metadata": {},
   "outputs": [
    {
     "name": "stdout",
     "output_type": "stream",
     "text": [
      "5000\n",
      "▁year\n",
      "Forest fire near La Ronge Sask. Canada\n",
      "Forest fire near La Ronge Sask. Canada\n",
      "['▁Forest', '▁fire', '▁near', '▁La', '▁R', 'on', 'ge', '▁S', 'ask', '.', '▁Canada']\n",
      "[794, 172, 574, 505, 150, 130, 365, 69, 2785, 6, 3472]\n"
     ]
    }
   ],
   "source": [
    "print(sp.GetPieceSize())\n",
    "print(sp.IdToPiece(430))\n",
    "print(sp.DecodeIds([794, 172, 574, 505, 150, 130, 365, 69, 2785, 6, 3472]))\n",
    "print(sp.DecodePieces(['▁Forest', '▁fire', '▁near', '▁La', '▁R', 'on', 'ge', '▁S', 'ask', '.', '▁Canada']))\n",
    "print(sp.encode('Forest fire near La Ronge Sask. Canada', out_type=str))\n",
    "print(sp.encode('Forest fire near La Ronge Sask. Canada', out_type=int))"
   ]
  }
 ],
 "metadata": {
  "kernelspec": {
   "display_name": "Python 3",
   "language": "python",
   "name": "python3"
  },
  "language_info": {
   "codemirror_mode": {
    "name": "ipython",
    "version": 3
   },
   "file_extension": ".py",
   "mimetype": "text/x-python",
   "name": "python",
   "nbconvert_exporter": "python",
   "pygments_lexer": "ipython3",
   "version": "3.10.9 (tags/v3.10.9:1dd9be6, Dec  6 2022, 20:01:21) [MSC v.1934 64 bit (AMD64)]"
  },
  "orig_nbformat": 4,
  "vscode": {
   "interpreter": {
    "hash": "afb734500600fd355917ca529030176ea0ca205570884b88f2f6f7d791fd3fbe"
   }
  }
 },
 "nbformat": 4,
 "nbformat_minor": 2
}
